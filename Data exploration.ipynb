{
    "metadata": {
        "kernelspec": {
            "name": "SQL",
            "display_name": "SQL",
            "language": "sql"
        },
        "language_info": {
            "name": "sql",
            "version": ""
        }
    },
    "nbformat_minor": 2,
    "nbformat": 4,
    "cells": [
        {
            "cell_type": "markdown",
            "source": [
                "**1\\. UNDERSTANDING THE CALL CENTER DATASET**"
            ],
            "metadata": {
                "language": "sql",
                "azdata_cell_guid": "38a6e245-8bf0-44a1-8c08-8286d482e3f4"
            },
            "attachments": {}
        },
        {
            "cell_type": "code",
            "source": [
                "SELECT COLUMN_NAME, DATA_TYPE, CHARACTER_MAXIMUM_LENGTH\r\n",
                "FROM INFORMATION_SCHEMA.COLUMNS\r\n",
                "WHERE TABLE_NAME = 'Call Center';"
            ],
            "metadata": {
                "azdata_cell_guid": "d59d31ad-1a44-461f-b39f-d52ecf84ee77",
                "language": "sql"
            },
            "outputs": [
                {
                    "output_type": "display_data",
                    "data": {
                        "text/html": "(12 rows affected)"
                    },
                    "metadata": {}
                },
                {
                    "output_type": "display_data",
                    "data": {
                        "text/html": "Total execution time: 00:00:00.033"
                    },
                    "metadata": {}
                },
                {
                    "output_type": "execute_result",
                    "execution_count": 4,
                    "data": {
                        "application/vnd.dataresource+json": {
                            "schema": {
                                "fields": [
                                    {
                                        "name": "COLUMN_NAME"
                                    },
                                    {
                                        "name": "DATA_TYPE"
                                    },
                                    {
                                        "name": "CHARACTER_MAXIMUM_LENGTH"
                                    }
                                ]
                            },
                            "data": [
                                {
                                    "0": "id",
                                    "1": "nvarchar",
                                    "2": "50"
                                },
                                {
                                    "0": "customer_name",
                                    "1": "nvarchar",
                                    "2": "50"
                                },
                                {
                                    "0": "sentiment",
                                    "1": "nvarchar",
                                    "2": "50"
                                },
                                {
                                    "0": "csat_score",
                                    "1": "tinyint",
                                    "2": "NULL"
                                },
                                {
                                    "0": "call_timestamp",
                                    "1": "date",
                                    "2": "NULL"
                                },
                                {
                                    "0": "reason",
                                    "1": "nvarchar",
                                    "2": "50"
                                },
                                {
                                    "0": "city",
                                    "1": "nvarchar",
                                    "2": "50"
                                },
                                {
                                    "0": "state",
                                    "1": "nvarchar",
                                    "2": "50"
                                },
                                {
                                    "0": "channel",
                                    "1": "nvarchar",
                                    "2": "50"
                                },
                                {
                                    "0": "response_time",
                                    "1": "nvarchar",
                                    "2": "50"
                                },
                                {
                                    "0": "call_duration_in_minutes",
                                    "1": "tinyint",
                                    "2": "NULL"
                                },
                                {
                                    "0": "call_center",
                                    "1": "nvarchar",
                                    "2": "50"
                                }
                            ]
                        },
                        "text/html": "<table><tr><th>COLUMN_NAME</th><th>DATA_TYPE</th><th>CHARACTER_MAXIMUM_LENGTH</th></tr><tr><td>id</td><td>nvarchar</td><td>50</td></tr><tr><td>customer_name</td><td>nvarchar</td><td>50</td></tr><tr><td>sentiment</td><td>nvarchar</td><td>50</td></tr><tr><td>csat_score</td><td>tinyint</td><td>NULL</td></tr><tr><td>call_timestamp</td><td>date</td><td>NULL</td></tr><tr><td>reason</td><td>nvarchar</td><td>50</td></tr><tr><td>city</td><td>nvarchar</td><td>50</td></tr><tr><td>state</td><td>nvarchar</td><td>50</td></tr><tr><td>channel</td><td>nvarchar</td><td>50</td></tr><tr><td>response_time</td><td>nvarchar</td><td>50</td></tr><tr><td>call_duration_in_minutes</td><td>tinyint</td><td>NULL</td></tr><tr><td>call_center</td><td>nvarchar</td><td>50</td></tr></table>"
                    },
                    "metadata": {}
                }
            ],
            "execution_count": 4
        },
        {
            "cell_type": "code",
            "source": [
                "select count(id) as id_count, COUNT(distinct id) as distinct_count_id\r\n",
                "from [Call Center]"
            ],
            "metadata": {
                "azdata_cell_guid": "54170850-6726-4f47-b98a-2e4b3c15d261",
                "language": "sql"
            },
            "outputs": [
                {
                    "output_type": "display_data",
                    "data": {
                        "text/html": "(1 row affected)"
                    },
                    "metadata": {}
                },
                {
                    "output_type": "display_data",
                    "data": {
                        "text/html": "Total execution time: 00:00:00.039"
                    },
                    "metadata": {}
                },
                {
                    "output_type": "execute_result",
                    "execution_count": 5,
                    "data": {
                        "application/vnd.dataresource+json": {
                            "schema": {
                                "fields": [
                                    {
                                        "name": "id_count"
                                    },
                                    {
                                        "name": "distinct_count_id"
                                    }
                                ]
                            },
                            "data": [
                                {
                                    "0": "32941",
                                    "1": "32941"
                                }
                            ]
                        },
                        "text/html": "<table><tr><th>id_count</th><th>distinct_count_id</th></tr><tr><td>32941</td><td>32941</td></tr></table>"
                    },
                    "metadata": {}
                }
            ],
            "execution_count": 5
        },
        {
            "cell_type": "markdown",
            "source": [
                "Call ID is a unique field and we will set it as the primary key\n",
                "\n",
                "Unfortunately, we cannot update a column to the primary key via the update keyword so we would  update it manually from the SQL server"
            ],
            "metadata": {
                "language": "sql",
                "azdata_cell_guid": "98730d87-ff25-4e69-bd93-d43585e3f102"
            },
            "attachments": {}
        },
        {
            "cell_type": "code",
            "source": [
                "SELECT * \r\n",
                "FROM sys.indexes\r\n",
                "WHERE object_id = OBJECT_ID('Call Center') AND is_primary_key = 1;"
            ],
            "metadata": {
                "azdata_cell_guid": "ed186920-e45a-4cfe-9042-223ad0cb39bc",
                "language": "sql"
            },
            "outputs": [],
            "execution_count": null
        },
        {
            "cell_type": "code",
            "source": [
                "SELECT DISTINCT sentiment\r\n",
                "FROM [Call Center]"
            ],
            "metadata": {
                "azdata_cell_guid": "b7778715-3ba8-467f-ac22-b538314aa2a6",
                "language": "sql"
            },
            "outputs": [
                {
                    "output_type": "display_data",
                    "data": {
                        "text/html": "(5 rows affected)"
                    },
                    "metadata": {}
                },
                {
                    "output_type": "display_data",
                    "data": {
                        "text/html": "Total execution time: 00:00:00.028"
                    },
                    "metadata": {}
                },
                {
                    "output_type": "execute_result",
                    "execution_count": 4,
                    "data": {
                        "application/vnd.dataresource+json": {
                            "schema": {
                                "fields": [
                                    {
                                        "name": "sentiment"
                                    }
                                ]
                            },
                            "data": [
                                {
                                    "0": "Very Negative"
                                },
                                {
                                    "0": "Negative"
                                },
                                {
                                    "0": "Neutral"
                                },
                                {
                                    "0": "Very Positive"
                                },
                                {
                                    "0": "Positive"
                                }
                            ]
                        },
                        "text/html": "<table><tr><th>sentiment</th></tr><tr><td>Very Negative</td></tr><tr><td>Negative</td></tr><tr><td>Neutral</td></tr><tr><td>Very Positive</td></tr><tr><td>Positive</td></tr></table>"
                    },
                    "metadata": {}
                }
            ],
            "execution_count": 4
        },
        {
            "cell_type": "code",
            "source": [
                "SELECT DISTINCT reason\r\n",
                "FROM [Call Center]"
            ],
            "metadata": {
                "azdata_cell_guid": "9def2188-ba10-4c31-9cb3-6f32eff53573",
                "language": "sql"
            },
            "outputs": [
                {
                    "output_type": "display_data",
                    "data": {
                        "text/html": "(3 rows affected)"
                    },
                    "metadata": {}
                },
                {
                    "output_type": "display_data",
                    "data": {
                        "text/html": "Total execution time: 00:00:00.137"
                    },
                    "metadata": {}
                },
                {
                    "output_type": "execute_result",
                    "execution_count": 5,
                    "data": {
                        "application/vnd.dataresource+json": {
                            "schema": {
                                "fields": [
                                    {
                                        "name": "reason"
                                    }
                                ]
                            },
                            "data": [
                                {
                                    "0": "Service Outage"
                                },
                                {
                                    "0": "Billing Question"
                                },
                                {
                                    "0": "Payments"
                                }
                            ]
                        },
                        "text/html": "<table><tr><th>reason</th></tr><tr><td>Service Outage</td></tr><tr><td>Billing Question</td></tr><tr><td>Payments</td></tr></table>"
                    },
                    "metadata": {}
                }
            ],
            "execution_count": 5
        },
        {
            "cell_type": "code",
            "source": [
                "SELECT DISTINCT channel \r\n",
                "FROM [Call Center]"
            ],
            "metadata": {
                "azdata_cell_guid": "1ed6bb01-9cb6-49af-98e2-d159faa92a0a",
                "language": "sql"
            },
            "outputs": [
                {
                    "output_type": "display_data",
                    "data": {
                        "text/html": "(4 rows affected)"
                    },
                    "metadata": {}
                },
                {
                    "output_type": "display_data",
                    "data": {
                        "text/html": "Total execution time: 00:00:00.079"
                    },
                    "metadata": {}
                },
                {
                    "output_type": "execute_result",
                    "execution_count": 6,
                    "data": {
                        "application/vnd.dataresource+json": {
                            "schema": {
                                "fields": [
                                    {
                                        "name": "channel"
                                    }
                                ]
                            },
                            "data": [
                                {
                                    "0": "Call-Center"
                                },
                                {
                                    "0": "Web"
                                },
                                {
                                    "0": "Email"
                                },
                                {
                                    "0": "Chatbot"
                                }
                            ]
                        },
                        "text/html": "<table><tr><th>channel</th></tr><tr><td>Call-Center</td></tr><tr><td>Web</td></tr><tr><td>Email</td></tr><tr><td>Chatbot</td></tr></table>"
                    },
                    "metadata": {}
                }
            ],
            "execution_count": 6
        },
        {
            "cell_type": "code",
            "source": [
                "SELECT DISTINCT response_time\r\n",
                "FROM [Call Center]"
            ],
            "metadata": {
                "azdata_cell_guid": "65a6853e-5526-4154-a5bd-2dc2118c4c39",
                "language": "sql"
            },
            "outputs": [
                {
                    "output_type": "display_data",
                    "data": {
                        "text/html": "(3 rows affected)"
                    },
                    "metadata": {}
                },
                {
                    "output_type": "display_data",
                    "data": {
                        "text/html": "Total execution time: 00:00:00.077"
                    },
                    "metadata": {}
                },
                {
                    "output_type": "execute_result",
                    "execution_count": 7,
                    "data": {
                        "application/vnd.dataresource+json": {
                            "schema": {
                                "fields": [
                                    {
                                        "name": "response_time"
                                    }
                                ]
                            },
                            "data": [
                                {
                                    "0": "Below SLA"
                                },
                                {
                                    "0": "Above SLA"
                                },
                                {
                                    "0": "Within SLA"
                                }
                            ]
                        },
                        "text/html": "<table><tr><th>response_time</th></tr><tr><td>Below SLA</td></tr><tr><td>Above SLA</td></tr><tr><td>Within SLA</td></tr></table>"
                    },
                    "metadata": {}
                }
            ],
            "execution_count": 7
        },
        {
            "cell_type": "markdown",
            "source": [
                "**2\\. CLEANING AND PROCESSING THE CALL CENTER DATASET**"
            ],
            "metadata": {
                "language": "sql",
                "azdata_cell_guid": "8676eeaa-8083-4420-a2f0-5f1a80bffbd7"
            },
            "attachments": {}
        },
        {
            "cell_type": "code",
            "source": [
                "SELECT TOP 5 *\r\n",
                "FROM [Call Center]"
            ],
            "metadata": {
                "azdata_cell_guid": "f1990ef3-9ce9-4733-bebe-6d3618e8ff64",
                "language": "sql"
            },
            "outputs": [
                {
                    "output_type": "display_data",
                    "data": {
                        "text/html": "(5 rows affected)"
                    },
                    "metadata": {}
                },
                {
                    "output_type": "display_data",
                    "data": {
                        "text/html": "Total execution time: 00:00:00.019"
                    },
                    "metadata": {}
                },
                {
                    "output_type": "execute_result",
                    "execution_count": 8,
                    "data": {
                        "application/vnd.dataresource+json": {
                            "schema": {
                                "fields": [
                                    {
                                        "name": "id"
                                    },
                                    {
                                        "name": "customer_name"
                                    },
                                    {
                                        "name": "sentiment"
                                    },
                                    {
                                        "name": "csat_score"
                                    },
                                    {
                                        "name": "call_timestamp"
                                    },
                                    {
                                        "name": "reason"
                                    },
                                    {
                                        "name": "city"
                                    },
                                    {
                                        "name": "state"
                                    },
                                    {
                                        "name": "channel"
                                    },
                                    {
                                        "name": "response_time"
                                    },
                                    {
                                        "name": "call_duration_in_minutes"
                                    },
                                    {
                                        "name": "call_center"
                                    }
                                ]
                            },
                            "data": [
                                {
                                    "0": "AAA-03321706-1-866834-I1",
                                    "1": "Andrea Bailiss",
                                    "2": "Negative",
                                    "3": "3",
                                    "4": "2020-10-15",
                                    "5": "Payments",
                                    "6": "Charlotte",
                                    "7": "North Carolina",
                                    "8": "Call-Center",
                                    "9": "Within SLA",
                                    "10": "12",
                                    "11": "Baltimore/MD"
                                },
                                {
                                    "0": "AAB-04923282-m-405308-yW",
                                    "1": "Othilie Strand",
                                    "2": "Negative",
                                    "3": "NULL",
                                    "4": "2020-10-22",
                                    "5": "Service Outage",
                                    "6": "Nashville",
                                    "7": "Tennessee",
                                    "8": "Web",
                                    "9": "Below SLA",
                                    "10": "5",
                                    "11": "Baltimore/MD"
                                },
                                {
                                    "0": "AAB-23102945-b-065985-xp",
                                    "1": "Sondra Bearman",
                                    "2": "Very Positive",
                                    "3": "NULL",
                                    "4": "2020-10-06",
                                    "5": "Billing Question",
                                    "6": "Salem",
                                    "7": "Oregon",
                                    "8": "Call-Center",
                                    "9": "Above SLA",
                                    "10": "9",
                                    "11": "Chicago/IL"
                                },
                                {
                                    "0": "AAB-64454903-y-396859-bx",
                                    "1": "Gibb Augustine",
                                    "2": "Positive",
                                    "3": "NULL",
                                    "4": "2020-10-15",
                                    "5": "Service Outage",
                                    "6": "Littleton",
                                    "7": "Colorado",
                                    "8": "Web",
                                    "9": "Within SLA",
                                    "10": "20",
                                    "11": "Los Angeles/CA"
                                },
                                {
                                    "0": "AAB-68191584-X-296651-JM",
                                    "1": "Hope Verissimo",
                                    "2": "Positive",
                                    "3": "NULL",
                                    "4": "2020-10-02",
                                    "5": "Billing Question",
                                    "6": "Fresno",
                                    "7": "California",
                                    "8": "Web",
                                    "9": "Within SLA",
                                    "10": "43",
                                    "11": "Chicago/IL"
                                }
                            ]
                        },
                        "text/html": "<table><tr><th>id</th><th>customer_name</th><th>sentiment</th><th>csat_score</th><th>call_timestamp</th><th>reason</th><th>city</th><th>state</th><th>channel</th><th>response_time</th><th>call_duration_in_minutes</th><th>call_center</th></tr><tr><td>AAA-03321706-1-866834-I1</td><td>Andrea Bailiss</td><td>Negative</td><td>3</td><td>2020-10-15</td><td>Payments</td><td>Charlotte</td><td>North Carolina</td><td>Call-Center</td><td>Within SLA</td><td>12</td><td>Baltimore/MD</td></tr><tr><td>AAB-04923282-m-405308-yW</td><td>Othilie Strand</td><td>Negative</td><td>NULL</td><td>2020-10-22</td><td>Service Outage</td><td>Nashville</td><td>Tennessee</td><td>Web</td><td>Below SLA</td><td>5</td><td>Baltimore/MD</td></tr><tr><td>AAB-23102945-b-065985-xp</td><td>Sondra Bearman</td><td>Very Positive</td><td>NULL</td><td>2020-10-06</td><td>Billing Question</td><td>Salem</td><td>Oregon</td><td>Call-Center</td><td>Above SLA</td><td>9</td><td>Chicago/IL</td></tr><tr><td>AAB-64454903-y-396859-bx</td><td>Gibb Augustine</td><td>Positive</td><td>NULL</td><td>2020-10-15</td><td>Service Outage</td><td>Littleton</td><td>Colorado</td><td>Web</td><td>Within SLA</td><td>20</td><td>Los Angeles/CA</td></tr><tr><td>AAB-68191584-X-296651-JM</td><td>Hope Verissimo</td><td>Positive</td><td>NULL</td><td>2020-10-02</td><td>Billing Question</td><td>Fresno</td><td>California</td><td>Web</td><td>Within SLA</td><td>43</td><td>Chicago/IL</td></tr></table>"
                    },
                    "metadata": {}
                }
            ],
            "execution_count": 8
        },
        {
            "cell_type": "code",
            "source": [
                "SELECT COLUMN_NAME, DATA_TYPE, CHARACTER_MAXIMUM_LENGTH\r\n",
                "FROM INFORMATION_SCHEMA.COLUMNS\r\n",
                "WHERE TABLE_NAME = 'Call Center';"
            ],
            "metadata": {
                "azdata_cell_guid": "426b8fcc-5906-4a2a-9362-9167cd90b624",
                "language": "sql"
            },
            "outputs": [
                {
                    "output_type": "display_data",
                    "data": {
                        "text/html": "(12 rows affected)"
                    },
                    "metadata": {}
                },
                {
                    "output_type": "display_data",
                    "data": {
                        "text/html": "Total execution time: 00:00:00.147"
                    },
                    "metadata": {}
                },
                {
                    "output_type": "execute_result",
                    "execution_count": 9,
                    "data": {
                        "application/vnd.dataresource+json": {
                            "schema": {
                                "fields": [
                                    {
                                        "name": "COLUMN_NAME"
                                    },
                                    {
                                        "name": "DATA_TYPE"
                                    },
                                    {
                                        "name": "CHARACTER_MAXIMUM_LENGTH"
                                    }
                                ]
                            },
                            "data": [
                                {
                                    "0": "id",
                                    "1": "nvarchar",
                                    "2": "50"
                                },
                                {
                                    "0": "customer_name",
                                    "1": "nvarchar",
                                    "2": "50"
                                },
                                {
                                    "0": "sentiment",
                                    "1": "nvarchar",
                                    "2": "50"
                                },
                                {
                                    "0": "csat_score",
                                    "1": "tinyint",
                                    "2": "NULL"
                                },
                                {
                                    "0": "call_timestamp",
                                    "1": "date",
                                    "2": "NULL"
                                },
                                {
                                    "0": "reason",
                                    "1": "nvarchar",
                                    "2": "50"
                                },
                                {
                                    "0": "city",
                                    "1": "nvarchar",
                                    "2": "50"
                                },
                                {
                                    "0": "state",
                                    "1": "nvarchar",
                                    "2": "50"
                                },
                                {
                                    "0": "channel",
                                    "1": "nvarchar",
                                    "2": "50"
                                },
                                {
                                    "0": "response_time",
                                    "1": "nvarchar",
                                    "2": "50"
                                },
                                {
                                    "0": "call_duration_in_minutes",
                                    "1": "tinyint",
                                    "2": "NULL"
                                },
                                {
                                    "0": "call_center",
                                    "1": "nvarchar",
                                    "2": "50"
                                }
                            ]
                        },
                        "text/html": "<table><tr><th>COLUMN_NAME</th><th>DATA_TYPE</th><th>CHARACTER_MAXIMUM_LENGTH</th></tr><tr><td>id</td><td>nvarchar</td><td>50</td></tr><tr><td>customer_name</td><td>nvarchar</td><td>50</td></tr><tr><td>sentiment</td><td>nvarchar</td><td>50</td></tr><tr><td>csat_score</td><td>tinyint</td><td>NULL</td></tr><tr><td>call_timestamp</td><td>date</td><td>NULL</td></tr><tr><td>reason</td><td>nvarchar</td><td>50</td></tr><tr><td>city</td><td>nvarchar</td><td>50</td></tr><tr><td>state</td><td>nvarchar</td><td>50</td></tr><tr><td>channel</td><td>nvarchar</td><td>50</td></tr><tr><td>response_time</td><td>nvarchar</td><td>50</td></tr><tr><td>call_duration_in_minutes</td><td>tinyint</td><td>NULL</td></tr><tr><td>call_center</td><td>nvarchar</td><td>50</td></tr></table>"
                    },
                    "metadata": {}
                }
            ],
            "execution_count": 9
        },
        {
            "cell_type": "markdown",
            "source": [
                "Data type checks out for all of them"
            ],
            "metadata": {
                "language": "sql",
                "azdata_cell_guid": "33b10214-06a9-48b5-a22c-a3ecdffde236"
            },
            "attachments": {}
        },
        {
            "cell_type": "code",
            "source": [
                "SELECT sentiment, COUNT(*) AS count\r\n",
                "FROM [Call Center]\r\n",
                "GROUP BY sentiment"
            ],
            "metadata": {
                "language": "sql",
                "azdata_cell_guid": "2f698aa2-be9a-44f2-95ab-519fc893514f",
                "tags": [
                    "hide_input"
                ]
            },
            "outputs": [
                {
                    "output_type": "display_data",
                    "data": {
                        "text/html": "(5 rows affected)"
                    },
                    "metadata": {}
                },
                {
                    "output_type": "display_data",
                    "data": {
                        "text/html": "Total execution time: 00:00:00.039"
                    },
                    "metadata": {}
                },
                {
                    "output_type": "execute_result",
                    "execution_count": 11,
                    "data": {
                        "application/vnd.dataresource+json": {
                            "schema": {
                                "fields": [
                                    {
                                        "name": "sentiment"
                                    },
                                    {
                                        "name": "count"
                                    }
                                ]
                            },
                            "data": [
                                {
                                    "0": "Very Negative",
                                    "1": "6026"
                                },
                                {
                                    "0": "Negative",
                                    "1": "11063"
                                },
                                {
                                    "0": "Neutral",
                                    "1": "8754"
                                },
                                {
                                    "0": "Very Positive",
                                    "1": "3170"
                                },
                                {
                                    "0": "Positive",
                                    "1": "3928"
                                }
                            ]
                        },
                        "text/html": "<table><tr><th>sentiment</th><th>count</th></tr><tr><td>Very Negative</td><td>6026</td></tr><tr><td>Negative</td><td>11063</td></tr><tr><td>Neutral</td><td>8754</td></tr><tr><td>Very Positive</td><td>3170</td></tr><tr><td>Positive</td><td>3928</td></tr></table>"
                    },
                    "metadata": {}
                }
            ],
            "execution_count": 11
        },
        {
            "cell_type": "code",
            "source": [
                "SELECT COUNT(*)\r\n",
                "FROM [Call Center]\r\n",
                "WHERE csat_score IS NULL"
            ],
            "metadata": {
                "azdata_cell_guid": "57aba671-82e8-4a49-9737-0eee360e63fa",
                "language": "sql"
            },
            "outputs": [
                {
                    "output_type": "display_data",
                    "data": {
                        "text/html": "(1 row affected)"
                    },
                    "metadata": {}
                },
                {
                    "output_type": "display_data",
                    "data": {
                        "text/html": "Total execution time: 00:00:00.011"
                    },
                    "metadata": {}
                },
                {
                    "output_type": "execute_result",
                    "execution_count": 29,
                    "data": {
                        "application/vnd.dataresource+json": {
                            "schema": {
                                "fields": [
                                    {
                                        "name": "(No column name)"
                                    }
                                ]
                            },
                            "data": [
                                {
                                    "0": "20670"
                                }
                            ]
                        },
                        "text/html": "<table><tr><th>(No column name)</th></tr><tr><td>20670</td></tr></table>"
                    },
                    "metadata": {}
                }
            ],
            "execution_count": 29
        },
        {
            "cell_type": "code",
            "source": [
                "SELECT TOP 1 csat_score, COUNT(csat_score) AS very_negative\r\n",
                "FROM [Call Center]\r\n",
                "WHERE sentiment = 'Very Negative'\r\n",
                "GROUP BY csat_score\r\n",
                "ORDER BY COUNT(csat_score) DESC ;\r\n",
                "\r\n",
                "SELECT TOP 1 csat_score, COUNT(csat_score) AS Negative\r\n",
                "FROM [Call Center]\r\n",
                "WHERE sentiment = 'Negative'\r\n",
                "GROUP BY csat_score\r\n",
                "ORDER BY COUNT(csat_score) DESC ;\r\n",
                "\r\n",
                "SELECT TOP 1 csat_score, COUNT(csat_score) AS Neutral\r\n",
                "FROM [Call Center]\r\n",
                "WHERE sentiment = 'Neutral'\r\n",
                "GROUP BY csat_score\r\n",
                "ORDER BY COUNT(csat_score) DESC ;\r\n",
                "\r\n",
                "SELECT TOP 1 csat_score, COUNT(csat_score) AS very_positive\r\n",
                "FROM [Call Center]\r\n",
                "WHERE sentiment = 'Very Positive'\r\n",
                "GROUP BY csat_score\r\n",
                "ORDER BY COUNT(csat_score) DESC ;\r\n",
                "\r\n",
                "SELECT TOP 1 csat_score, COUNT(csat_score) AS Positive\r\n",
                "FROM [Call Center]\r\n",
                "WHERE sentiment = 'Positive'\r\n",
                "GROUP BY csat_score\r\n",
                "ORDER BY COUNT(csat_score) DESC ;"
            ],
            "metadata": {
                "language": "sql",
                "azdata_cell_guid": "42f83d1f-ca30-48ec-8736-e60b9e63a2b4"
            },
            "outputs": [
                {
                    "output_type": "display_data",
                    "data": {
                        "text/html": "Warning: Null value is eliminated by an aggregate or other SET operation."
                    },
                    "metadata": {}
                },
                {
                    "output_type": "display_data",
                    "data": {
                        "text/html": "(1 row affected)"
                    },
                    "metadata": {}
                },
                {
                    "output_type": "display_data",
                    "data": {
                        "text/html": "Warning: Null value is eliminated by an aggregate or other SET operation."
                    },
                    "metadata": {}
                },
                {
                    "output_type": "display_data",
                    "data": {
                        "text/html": "(1 row affected)"
                    },
                    "metadata": {}
                },
                {
                    "output_type": "display_data",
                    "data": {
                        "text/html": "Warning: Null value is eliminated by an aggregate or other SET operation."
                    },
                    "metadata": {}
                },
                {
                    "output_type": "display_data",
                    "data": {
                        "text/html": "(1 row affected)"
                    },
                    "metadata": {}
                },
                {
                    "output_type": "display_data",
                    "data": {
                        "text/html": "Warning: Null value is eliminated by an aggregate or other SET operation."
                    },
                    "metadata": {}
                },
                {
                    "output_type": "display_data",
                    "data": {
                        "text/html": "(1 row affected)"
                    },
                    "metadata": {}
                },
                {
                    "output_type": "display_data",
                    "data": {
                        "text/html": "Warning: Null value is eliminated by an aggregate or other SET operation."
                    },
                    "metadata": {}
                },
                {
                    "output_type": "display_data",
                    "data": {
                        "text/html": "(1 row affected)"
                    },
                    "metadata": {}
                },
                {
                    "output_type": "display_data",
                    "data": {
                        "text/html": "Total execution time: 00:00:00.117"
                    },
                    "metadata": {}
                },
                {
                    "output_type": "execute_result",
                    "execution_count": 24,
                    "data": {
                        "application/vnd.dataresource+json": {
                            "schema": {
                                "fields": [
                                    {
                                        "name": "csat_score"
                                    },
                                    {
                                        "name": "very_negative"
                                    }
                                ]
                            },
                            "data": [
                                {
                                    "0": "1",
                                    "1": "595"
                                }
                            ]
                        },
                        "text/html": "<table><tr><th>csat_score</th><th>very_negative</th></tr><tr><td>1</td><td>595</td></tr></table>"
                    },
                    "metadata": {}
                },
                {
                    "output_type": "execute_result",
                    "execution_count": 24,
                    "data": {
                        "application/vnd.dataresource+json": {
                            "schema": {
                                "fields": [
                                    {
                                        "name": "csat_score"
                                    },
                                    {
                                        "name": "Negative"
                                    }
                                ]
                            },
                            "data": [
                                {
                                    "0": "6",
                                    "1": "1053"
                                }
                            ]
                        },
                        "text/html": "<table><tr><th>csat_score</th><th>Negative</th></tr><tr><td>6</td><td>1053</td></tr></table>"
                    },
                    "metadata": {}
                },
                {
                    "output_type": "execute_result",
                    "execution_count": 24,
                    "data": {
                        "application/vnd.dataresource+json": {
                            "schema": {
                                "fields": [
                                    {
                                        "name": "csat_score"
                                    },
                                    {
                                        "name": "Neutral"
                                    }
                                ]
                            },
                            "data": [
                                {
                                    "0": "5",
                                    "1": "855"
                                }
                            ]
                        },
                        "text/html": "<table><tr><th>csat_score</th><th>Neutral</th></tr><tr><td>5</td><td>855</td></tr></table>"
                    },
                    "metadata": {}
                },
                {
                    "output_type": "execute_result",
                    "execution_count": 24,
                    "data": {
                        "application/vnd.dataresource+json": {
                            "schema": {
                                "fields": [
                                    {
                                        "name": "csat_score"
                                    },
                                    {
                                        "name": "very_positive"
                                    }
                                ]
                            },
                            "data": [
                                {
                                    "0": "9",
                                    "1": "583"
                                }
                            ]
                        },
                        "text/html": "<table><tr><th>csat_score</th><th>very_positive</th></tr><tr><td>9</td><td>583</td></tr></table>"
                    },
                    "metadata": {}
                },
                {
                    "output_type": "execute_result",
                    "execution_count": 24,
                    "data": {
                        "application/vnd.dataresource+json": {
                            "schema": {
                                "fields": [
                                    {
                                        "name": "csat_score"
                                    },
                                    {
                                        "name": "Positive"
                                    }
                                ]
                            },
                            "data": [
                                {
                                    "0": "7",
                                    "1": "519"
                                }
                            ]
                        },
                        "text/html": "<table><tr><th>csat_score</th><th>Positive</th></tr><tr><td>7</td><td>519</td></tr></table>"
                    },
                    "metadata": {}
                }
            ],
            "execution_count": 24
        },
        {
            "cell_type": "markdown",
            "source": [
                "<span style=\"color: rgb(55, 65, 81); font-family: Söhne, ui-sans-serif, system-ui, -apple-system, &quot;Segoe UI&quot;, Roboto, Ubuntu, Cantarell, &quot;Noto Sans&quot;, sans-serif, &quot;Helvetica Neue&quot;, Arial, &quot;Apple Color Emoji&quot;, &quot;Segoe UI Emoji&quot;, &quot;Segoe UI Symbol&quot;, &quot;Noto Color Emoji&quot;; font-size: 16px; white-space: pre-wrap; background-color: rgb(247, 247, 248);\">\"</span><span style=\"color: var(--jp-content-font-color1); font-family: var(--jp-content-font-family); font-size: var(--jp-content-font-size1);\">Warning: Null value is eliminated by an aggregate or other SET operation.</span><span style=\"background-color: rgb(247, 247, 248); color: rgb(55, 65, 81); font-family: Söhne, ui-sans-serif, system-ui, -apple-system, &quot;Segoe UI&quot;, Roboto, Ubuntu, Cantarell, &quot;Noto Sans&quot;, sans-serif, &quot;Helvetica Neue&quot;, Arial, &quot;Apple Color Emoji&quot;, &quot;Segoe UI Emoji&quot;, &quot;Segoe UI Symbol&quot;, &quot;Noto Color Emoji&quot;; font-size: 16px; white-space: pre-wrap;\">\"</span>\n",
                "\n",
                "<span style=\"background-color: rgb(247, 247, 248); color: rgb(55, 65, 81); font-family: Söhne, ui-sans-serif, system-ui, -apple-system, &quot;Segoe UI&quot;, Roboto, Ubuntu, Cantarell, &quot;Noto Sans&quot;, sans-serif, &quot;Helvetica Neue&quot;, Arial, &quot;Apple Color Emoji&quot;, &quot;Segoe UI Emoji&quot;, &quot;Segoe UI Symbol&quot;, &quot;Noto Color Emoji&quot;; font-size: 16px; white-space: pre-wrap;\">This means that </span> <span style=\"background-color: rgb(247, 247, 248); color: rgb(55, 65, 81); font-family: Söhne, ui-sans-serif, system-ui, -apple-system, &quot;Segoe UI&quot;, Roboto, Ubuntu, Cantarell, &quot;Noto Sans&quot;, sans-serif, &quot;Helvetica Neue&quot;, Arial, &quot;Apple Color Emoji&quot;, &quot;Segoe UI Emoji&quot;, &quot;Segoe UI Symbol&quot;, &quot;Noto Color Emoji&quot;; font-size: 16px; white-space: pre-wrap;\">In this case, the </span> <span style=\"background-color: rgb(247, 247, 248); white-space: pre-wrap; font-size: 12px;\"><font color=\"#a31515\" face=\"Menlo, Monaco, Consolas, Droid Sans Mono, Courier New, monospace, Droid Sans Fallback\">'null' </font></span> <span style=\"background-color: rgb(247, 247, 248); color: rgb(55, 65, 81); font-family: Söhne, ui-sans-serif, system-ui, -apple-system, &quot;Segoe UI&quot;, Roboto, Ubuntu, Cantarell, &quot;Noto Sans&quot;, sans-serif, &quot;Helvetica Neue&quot;, Arial, &quot;Apple Color Emoji&quot;, &quot;Segoe UI Emoji&quot;, &quot;Segoe UI Symbol&quot;, &quot;Noto Color Emoji&quot;; font-size: 16px; white-space: pre-wrap;\">values are excluded from the calculation of the aggregate function</span>"
            ],
            "metadata": {
                "language": "sql",
                "azdata_cell_guid": "b00a2c77-f98f-430a-8482-15a53876f11e"
            },
            "attachments": {}
        },
        {
            "cell_type": "code",
            "source": [
                "UPDATE [Call Center]\r\n",
                "SET csat_score = CASE \r\n",
                "                    WHEN csat_score IS NULL AND sentiment = 'Very Negative' THEN 1\r\n",
                "                    WHEN csat_score IS NULL AND sentiment = 'Negative' THEN 6\r\n",
                "                    WHEN csat_score IS NULL AND sentiment = 'Neutral' THEN 5\r\n",
                "                    WHEN csat_score IS NULL AND sentiment = 'Very Positive' THEN 9\r\n",
                "                    WHEN csat_score IS NULL AND sentiment = 'Positive' THEN 7\r\n",
                "                    ELSE csat_score\r\n",
                "                END"
            ],
            "metadata": {
                "azdata_cell_guid": "29f92c57-dbec-4c76-8347-93fdd45d47d3",
                "language": "sql"
            },
            "outputs": [
                {
                    "output_type": "display_data",
                    "data": {
                        "text/html": "(32941 rows affected)"
                    },
                    "metadata": {}
                },
                {
                    "output_type": "display_data",
                    "data": {
                        "text/html": "Total execution time: 00:00:00.142"
                    },
                    "metadata": {}
                }
            ],
            "execution_count": 30
        },
        {
            "cell_type": "code",
            "source": [
                "SELECT * \r\n",
                "FROM [Call Center]\r\n",
                "WHERE csat_score IS NULL;"
            ],
            "metadata": {
                "azdata_cell_guid": "9bcff13b-e7f6-4501-8b13-b1fe72a7635e",
                "language": "sql"
            },
            "outputs": [
                {
                    "output_type": "display_data",
                    "data": {
                        "text/html": "(0 rows affected)"
                    },
                    "metadata": {}
                },
                {
                    "output_type": "display_data",
                    "data": {
                        "text/html": "Total execution time: 00:00:00.159"
                    },
                    "metadata": {}
                },
                {
                    "output_type": "execute_result",
                    "execution_count": 7,
                    "data": {
                        "application/vnd.dataresource+json": {
                            "schema": {
                                "fields": [
                                    {
                                        "name": "id"
                                    },
                                    {
                                        "name": "customer_name"
                                    },
                                    {
                                        "name": "sentiment"
                                    },
                                    {
                                        "name": "csat_score"
                                    },
                                    {
                                        "name": "call_timestamp"
                                    },
                                    {
                                        "name": "reason"
                                    },
                                    {
                                        "name": "city"
                                    },
                                    {
                                        "name": "state"
                                    },
                                    {
                                        "name": "channel"
                                    },
                                    {
                                        "name": "response_time"
                                    },
                                    {
                                        "name": "call_duration_in_minutes"
                                    },
                                    {
                                        "name": "call_center"
                                    }
                                ]
                            },
                            "data": []
                        },
                        "text/html": "<table><tr><th>id</th><th>customer_name</th><th>sentiment</th><th>csat_score</th><th>call_timestamp</th><th>reason</th><th>city</th><th>state</th><th>channel</th><th>response_time</th><th>call_duration_in_minutes</th><th>call_center</th></tr></table>"
                    },
                    "metadata": {}
                }
            ],
            "execution_count": 7
        },
        {
            "cell_type": "code",
            "source": [
                "SELECT TOP 5 *\r\n",
                "FROM [Call Center]"
            ],
            "metadata": {
                "azdata_cell_guid": "e4c2f536-79af-43a3-b905-82dfd703efcd",
                "language": "sql"
            },
            "outputs": [
                {
                    "output_type": "display_data",
                    "data": {
                        "text/html": "(5 rows affected)"
                    },
                    "metadata": {}
                },
                {
                    "output_type": "display_data",
                    "data": {
                        "text/html": "Total execution time: 00:00:00.012"
                    },
                    "metadata": {}
                },
                {
                    "output_type": "execute_result",
                    "execution_count": 32,
                    "data": {
                        "application/vnd.dataresource+json": {
                            "schema": {
                                "fields": [
                                    {
                                        "name": "id"
                                    },
                                    {
                                        "name": "customer_name"
                                    },
                                    {
                                        "name": "sentiment"
                                    },
                                    {
                                        "name": "csat_score"
                                    },
                                    {
                                        "name": "call_timestamp"
                                    },
                                    {
                                        "name": "reason"
                                    },
                                    {
                                        "name": "city"
                                    },
                                    {
                                        "name": "state"
                                    },
                                    {
                                        "name": "channel"
                                    },
                                    {
                                        "name": "response_time"
                                    },
                                    {
                                        "name": "call_duration_in_minutes"
                                    },
                                    {
                                        "name": "call_center"
                                    }
                                ]
                            },
                            "data": [
                                {
                                    "0": "AAA-03321706-1-866834-I1",
                                    "1": "Andrea Bailiss",
                                    "2": "Negative",
                                    "3": "3",
                                    "4": "2020-10-15",
                                    "5": "Payments",
                                    "6": "Charlotte",
                                    "7": "North Carolina",
                                    "8": "Call-Center",
                                    "9": "Within SLA",
                                    "10": "12",
                                    "11": "Baltimore/MD"
                                },
                                {
                                    "0": "AAB-04923282-m-405308-yW",
                                    "1": "Othilie Strand",
                                    "2": "Negative",
                                    "3": "6",
                                    "4": "2020-10-22",
                                    "5": "Service Outage",
                                    "6": "Nashville",
                                    "7": "Tennessee",
                                    "8": "Web",
                                    "9": "Below SLA",
                                    "10": "5",
                                    "11": "Baltimore/MD"
                                },
                                {
                                    "0": "AAB-23102945-b-065985-xp",
                                    "1": "Sondra Bearman",
                                    "2": "Very Positive",
                                    "3": "9",
                                    "4": "2020-10-06",
                                    "5": "Billing Question",
                                    "6": "Salem",
                                    "7": "Oregon",
                                    "8": "Call-Center",
                                    "9": "Above SLA",
                                    "10": "9",
                                    "11": "Chicago/IL"
                                },
                                {
                                    "0": "AAB-64454903-y-396859-bx",
                                    "1": "Gibb Augustine",
                                    "2": "Positive",
                                    "3": "7",
                                    "4": "2020-10-15",
                                    "5": "Service Outage",
                                    "6": "Littleton",
                                    "7": "Colorado",
                                    "8": "Web",
                                    "9": "Within SLA",
                                    "10": "20",
                                    "11": "Los Angeles/CA"
                                },
                                {
                                    "0": "AAB-68191584-X-296651-JM",
                                    "1": "Hope Verissimo",
                                    "2": "Positive",
                                    "3": "7",
                                    "4": "2020-10-02",
                                    "5": "Billing Question",
                                    "6": "Fresno",
                                    "7": "California",
                                    "8": "Web",
                                    "9": "Within SLA",
                                    "10": "43",
                                    "11": "Chicago/IL"
                                }
                            ]
                        },
                        "text/html": "<table><tr><th>id</th><th>customer_name</th><th>sentiment</th><th>csat_score</th><th>call_timestamp</th><th>reason</th><th>city</th><th>state</th><th>channel</th><th>response_time</th><th>call_duration_in_minutes</th><th>call_center</th></tr><tr><td>AAA-03321706-1-866834-I1</td><td>Andrea Bailiss</td><td>Negative</td><td>3</td><td>2020-10-15</td><td>Payments</td><td>Charlotte</td><td>North Carolina</td><td>Call-Center</td><td>Within SLA</td><td>12</td><td>Baltimore/MD</td></tr><tr><td>AAB-04923282-m-405308-yW</td><td>Othilie Strand</td><td>Negative</td><td>6</td><td>2020-10-22</td><td>Service Outage</td><td>Nashville</td><td>Tennessee</td><td>Web</td><td>Below SLA</td><td>5</td><td>Baltimore/MD</td></tr><tr><td>AAB-23102945-b-065985-xp</td><td>Sondra Bearman</td><td>Very Positive</td><td>9</td><td>2020-10-06</td><td>Billing Question</td><td>Salem</td><td>Oregon</td><td>Call-Center</td><td>Above SLA</td><td>9</td><td>Chicago/IL</td></tr><tr><td>AAB-64454903-y-396859-bx</td><td>Gibb Augustine</td><td>Positive</td><td>7</td><td>2020-10-15</td><td>Service Outage</td><td>Littleton</td><td>Colorado</td><td>Web</td><td>Within SLA</td><td>20</td><td>Los Angeles/CA</td></tr><tr><td>AAB-68191584-X-296651-JM</td><td>Hope Verissimo</td><td>Positive</td><td>7</td><td>2020-10-02</td><td>Billing Question</td><td>Fresno</td><td>California</td><td>Web</td><td>Within SLA</td><td>43</td><td>Chicago/IL</td></tr></table>"
                    },
                    "metadata": {}
                }
            ],
            "execution_count": 32
        },
        {
            "cell_type": "markdown",
            "source": [
                "CHECKING FOR OUTLIERS"
            ],
            "metadata": {
                "language": "sql",
                "azdata_cell_guid": "b753f137-150e-430a-9edd-7f49dc027b66"
            },
            "attachments": {}
        },
        {
            "cell_type": "code",
            "source": [
                "SELECT call_timestamp, call_duration_in_minutes\r\n",
                "FROM \r\n",
                "(SELECT call_timestamp, call_duration_in_minutes, \r\n",
                "    ROW_NUMBER() OVER (PARTITION BY call_timestamp ORDER BY call_duration_in_minutes DESC) AS row_num\r\n",
                "FROM [Call Center]) t\r\n",
                "WHERE row_num = 1"
            ],
            "metadata": {
                "azdata_cell_guid": "ae110a3c-ab7d-47ad-8569-cf031c36f192",
                "language": "sql"
            },
            "outputs": [
                {
                    "output_type": "display_data",
                    "data": {
                        "text/html": "(31 rows affected)"
                    },
                    "metadata": {}
                },
                {
                    "output_type": "display_data",
                    "data": {
                        "text/html": "Total execution time: 00:00:00.063"
                    },
                    "metadata": {}
                },
                {
                    "output_type": "execute_result",
                    "execution_count": 22,
                    "data": {
                        "application/vnd.dataresource+json": {
                            "schema": {
                                "fields": [
                                    {
                                        "name": "call_timestamp"
                                    },
                                    {
                                        "name": "call_duration_in_minutes"
                                    }
                                ]
                            },
                            "data": [
                                {
                                    "0": "2020-10-01",
                                    "1": "45"
                                },
                                {
                                    "0": "2020-10-02",
                                    "1": "45"
                                },
                                {
                                    "0": "2020-10-03",
                                    "1": "45"
                                },
                                {
                                    "0": "2020-10-04",
                                    "1": "45"
                                },
                                {
                                    "0": "2020-10-05",
                                    "1": "45"
                                },
                                {
                                    "0": "2020-10-06",
                                    "1": "45"
                                },
                                {
                                    "0": "2020-10-07",
                                    "1": "45"
                                },
                                {
                                    "0": "2020-10-08",
                                    "1": "45"
                                },
                                {
                                    "0": "2020-10-09",
                                    "1": "45"
                                },
                                {
                                    "0": "2020-10-10",
                                    "1": "45"
                                },
                                {
                                    "0": "2020-10-11",
                                    "1": "45"
                                },
                                {
                                    "0": "2020-10-12",
                                    "1": "45"
                                },
                                {
                                    "0": "2020-10-13",
                                    "1": "45"
                                },
                                {
                                    "0": "2020-10-14",
                                    "1": "45"
                                },
                                {
                                    "0": "2020-10-15",
                                    "1": "45"
                                },
                                {
                                    "0": "2020-10-16",
                                    "1": "45"
                                },
                                {
                                    "0": "2020-10-17",
                                    "1": "45"
                                },
                                {
                                    "0": "2020-10-18",
                                    "1": "45"
                                },
                                {
                                    "0": "2020-10-19",
                                    "1": "45"
                                },
                                {
                                    "0": "2020-10-20",
                                    "1": "45"
                                },
                                {
                                    "0": "2020-10-21",
                                    "1": "45"
                                },
                                {
                                    "0": "2020-10-22",
                                    "1": "45"
                                },
                                {
                                    "0": "2020-10-23",
                                    "1": "45"
                                },
                                {
                                    "0": "2020-10-24",
                                    "1": "45"
                                },
                                {
                                    "0": "2020-10-25",
                                    "1": "45"
                                },
                                {
                                    "0": "2020-10-26",
                                    "1": "45"
                                },
                                {
                                    "0": "2020-10-27",
                                    "1": "45"
                                },
                                {
                                    "0": "2020-10-28",
                                    "1": "45"
                                },
                                {
                                    "0": "2020-10-29",
                                    "1": "45"
                                },
                                {
                                    "0": "2020-10-30",
                                    "1": "45"
                                },
                                {
                                    "0": "2020-10-31",
                                    "1": "13"
                                }
                            ]
                        },
                        "text/html": "<table><tr><th>call_timestamp</th><th>call_duration_in_minutes</th></tr><tr><td>2020-10-01</td><td>45</td></tr><tr><td>2020-10-02</td><td>45</td></tr><tr><td>2020-10-03</td><td>45</td></tr><tr><td>2020-10-04</td><td>45</td></tr><tr><td>2020-10-05</td><td>45</td></tr><tr><td>2020-10-06</td><td>45</td></tr><tr><td>2020-10-07</td><td>45</td></tr><tr><td>2020-10-08</td><td>45</td></tr><tr><td>2020-10-09</td><td>45</td></tr><tr><td>2020-10-10</td><td>45</td></tr><tr><td>2020-10-11</td><td>45</td></tr><tr><td>2020-10-12</td><td>45</td></tr><tr><td>2020-10-13</td><td>45</td></tr><tr><td>2020-10-14</td><td>45</td></tr><tr><td>2020-10-15</td><td>45</td></tr><tr><td>2020-10-16</td><td>45</td></tr><tr><td>2020-10-17</td><td>45</td></tr><tr><td>2020-10-18</td><td>45</td></tr><tr><td>2020-10-19</td><td>45</td></tr><tr><td>2020-10-20</td><td>45</td></tr><tr><td>2020-10-21</td><td>45</td></tr><tr><td>2020-10-22</td><td>45</td></tr><tr><td>2020-10-23</td><td>45</td></tr><tr><td>2020-10-24</td><td>45</td></tr><tr><td>2020-10-25</td><td>45</td></tr><tr><td>2020-10-26</td><td>45</td></tr><tr><td>2020-10-27</td><td>45</td></tr><tr><td>2020-10-28</td><td>45</td></tr><tr><td>2020-10-29</td><td>45</td></tr><tr><td>2020-10-30</td><td>45</td></tr><tr><td>2020-10-31</td><td>13</td></tr></table>"
                    },
                    "metadata": {}
                }
            ],
            "execution_count": 22
        },
        {
            "cell_type": "code",
            "source": [
                "SELECT call_timestamp, AVG(call_duration_in_minutes)\r\n",
                "FROM [Call Center]\r\n",
                "GROUP BY call_timestamp"
            ],
            "metadata": {
                "azdata_cell_guid": "5f39662a-c1b2-4c6a-8946-4e02344c2878",
                "language": "sql",
                "tags": []
            },
            "outputs": [
                {
                    "output_type": "display_data",
                    "data": {
                        "text/html": "(31 rows affected)"
                    },
                    "metadata": {}
                },
                {
                    "output_type": "display_data",
                    "data": {
                        "text/html": "Total execution time: 00:00:00.036"
                    },
                    "metadata": {}
                },
                {
                    "output_type": "execute_result",
                    "execution_count": 23,
                    "data": {
                        "application/vnd.dataresource+json": {
                            "schema": {
                                "fields": [
                                    {
                                        "name": "call_timestamp"
                                    },
                                    {
                                        "name": "(No column name)"
                                    }
                                ]
                            },
                            "data": [
                                {
                                    "0": "2020-10-29",
                                    "1": "24"
                                },
                                {
                                    "0": "2020-10-06",
                                    "1": "25"
                                },
                                {
                                    "0": "2020-10-20",
                                    "1": "24"
                                },
                                {
                                    "0": "2020-10-26",
                                    "1": "24"
                                },
                                {
                                    "0": "2020-10-09",
                                    "1": "25"
                                },
                                {
                                    "0": "2020-10-03",
                                    "1": "25"
                                },
                                {
                                    "0": "2020-10-23",
                                    "1": "24"
                                },
                                {
                                    "0": "2020-10-17",
                                    "1": "24"
                                },
                                {
                                    "0": "2020-10-04",
                                    "1": "24"
                                },
                                {
                                    "0": "2020-10-24",
                                    "1": "24"
                                },
                                {
                                    "0": "2020-10-18",
                                    "1": "24"
                                },
                                {
                                    "0": "2020-10-12",
                                    "1": "25"
                                },
                                {
                                    "0": "2020-10-21",
                                    "1": "24"
                                },
                                {
                                    "0": "2020-10-01",
                                    "1": "24"
                                },
                                {
                                    "0": "2020-10-15",
                                    "1": "24"
                                },
                                {
                                    "0": "2020-10-10",
                                    "1": "25"
                                },
                                {
                                    "0": "2020-10-27",
                                    "1": "25"
                                },
                                {
                                    "0": "2020-10-16",
                                    "1": "25"
                                },
                                {
                                    "0": "2020-10-07",
                                    "1": "24"
                                },
                                {
                                    "0": "2020-10-30",
                                    "1": "24"
                                },
                                {
                                    "0": "2020-10-19",
                                    "1": "24"
                                },
                                {
                                    "0": "2020-10-13",
                                    "1": "24"
                                },
                                {
                                    "0": "2020-10-31",
                                    "1": "13"
                                },
                                {
                                    "0": "2020-10-08",
                                    "1": "25"
                                },
                                {
                                    "0": "2020-10-22",
                                    "1": "25"
                                },
                                {
                                    "0": "2020-10-02",
                                    "1": "24"
                                },
                                {
                                    "0": "2020-10-14",
                                    "1": "25"
                                },
                                {
                                    "0": "2020-10-05",
                                    "1": "25"
                                },
                                {
                                    "0": "2020-10-28",
                                    "1": "25"
                                },
                                {
                                    "0": "2020-10-25",
                                    "1": "24"
                                },
                                {
                                    "0": "2020-10-11",
                                    "1": "24"
                                }
                            ]
                        },
                        "text/html": "<table><tr><th>call_timestamp</th><th>(No column name)</th></tr><tr><td>2020-10-29</td><td>24</td></tr><tr><td>2020-10-06</td><td>25</td></tr><tr><td>2020-10-20</td><td>24</td></tr><tr><td>2020-10-26</td><td>24</td></tr><tr><td>2020-10-09</td><td>25</td></tr><tr><td>2020-10-03</td><td>25</td></tr><tr><td>2020-10-23</td><td>24</td></tr><tr><td>2020-10-17</td><td>24</td></tr><tr><td>2020-10-04</td><td>24</td></tr><tr><td>2020-10-24</td><td>24</td></tr><tr><td>2020-10-18</td><td>24</td></tr><tr><td>2020-10-12</td><td>25</td></tr><tr><td>2020-10-21</td><td>24</td></tr><tr><td>2020-10-01</td><td>24</td></tr><tr><td>2020-10-15</td><td>24</td></tr><tr><td>2020-10-10</td><td>25</td></tr><tr><td>2020-10-27</td><td>25</td></tr><tr><td>2020-10-16</td><td>25</td></tr><tr><td>2020-10-07</td><td>24</td></tr><tr><td>2020-10-30</td><td>24</td></tr><tr><td>2020-10-19</td><td>24</td></tr><tr><td>2020-10-13</td><td>24</td></tr><tr><td>2020-10-31</td><td>13</td></tr><tr><td>2020-10-08</td><td>25</td></tr><tr><td>2020-10-22</td><td>25</td></tr><tr><td>2020-10-02</td><td>24</td></tr><tr><td>2020-10-14</td><td>25</td></tr><tr><td>2020-10-05</td><td>25</td></tr><tr><td>2020-10-28</td><td>25</td></tr><tr><td>2020-10-25</td><td>24</td></tr><tr><td>2020-10-11</td><td>24</td></tr></table>"
                    },
                    "metadata": {}
                }
            ],
            "execution_count": 23
        },
        {
            "cell_type": "markdown",
            "source": [
                "**INSIGHTS**"
            ],
            "metadata": {
                "language": "sql",
                "azdata_cell_guid": "a2408076-0645-43ca-a914-7321b7069605"
            },
            "attachments": {}
        },
        {
            "cell_type": "markdown",
            "source": [
                "<span style=\"color: rgb(55, 65, 81); font-family: Söhne, ui-sans-serif, system-ui, -apple-system, &quot;Segoe UI&quot;, Roboto, Ubuntu, Cantarell, &quot;Noto Sans&quot;, sans-serif, &quot;Helvetica Neue&quot;, Arial, &quot;Apple Color Emoji&quot;, &quot;Segoe UI Emoji&quot;, &quot;Segoe UI Symbol&quot;, &quot;Noto Color Emoji&quot;; font-size: 16px; white-space: pre-wrap; background-color: rgb(247, 247, 248);\">Evaluation of call center performance based on the sentiment analysis of customer interactions</span>"
            ],
            "metadata": {
                "language": "sql",
                "azdata_cell_guid": "2ffbe7f2-267e-444f-a033-c87522359e12"
            },
            "attachments": {}
        },
        {
            "cell_type": "code",
            "source": [
                "SELECT call_center, sentiment, COUNT(sentiment) sentiment_count\r\n",
                "FROM [Call Center]\r\n",
                "GROUP BY call_center, sentiment\r\n",
                "ORDER BY call_center, sentiment;"
            ],
            "metadata": {
                "azdata_cell_guid": "886c1561-6e92-4f3f-b8a2-689f43a8c18a",
                "language": "sql",
                "tags": []
            },
            "outputs": [
                {
                    "output_type": "display_data",
                    "data": {
                        "text/html": "(20 rows affected)"
                    },
                    "metadata": {}
                },
                {
                    "output_type": "display_data",
                    "data": {
                        "text/html": "Total execution time: 00:00:00.061"
                    },
                    "metadata": {}
                },
                {
                    "output_type": "execute_result",
                    "execution_count": 30,
                    "data": {
                        "application/vnd.dataresource+json": {
                            "schema": {
                                "fields": [
                                    {
                                        "name": "call_center"
                                    },
                                    {
                                        "name": "sentiment"
                                    },
                                    {
                                        "name": "sentiment_count"
                                    }
                                ]
                            },
                            "data": [
                                {
                                    "0": "Baltimore/MD",
                                    "1": "Negative",
                                    "2": "3711"
                                },
                                {
                                    "0": "Baltimore/MD",
                                    "1": "Neutral",
                                    "2": "2927"
                                },
                                {
                                    "0": "Baltimore/MD",
                                    "1": "Positive",
                                    "2": "1289"
                                },
                                {
                                    "0": "Baltimore/MD",
                                    "1": "Very Negative",
                                    "2": "2025"
                                },
                                {
                                    "0": "Baltimore/MD",
                                    "1": "Very Positive",
                                    "2": "1060"
                                },
                                {
                                    "0": "Chicago/IL",
                                    "1": "Negative",
                                    "2": "1839"
                                },
                                {
                                    "0": "Chicago/IL",
                                    "1": "Neutral",
                                    "2": "1445"
                                },
                                {
                                    "0": "Chicago/IL",
                                    "1": "Positive",
                                    "2": "634"
                                },
                                {
                                    "0": "Chicago/IL",
                                    "1": "Very Negative",
                                    "2": "972"
                                },
                                {
                                    "0": "Chicago/IL",
                                    "1": "Very Positive",
                                    "2": "529"
                                },
                                {
                                    "0": "Denver/CO",
                                    "1": "Negative",
                                    "2": "912"
                                },
                                {
                                    "0": "Denver/CO",
                                    "1": "Neutral",
                                    "2": "800"
                                },
                                {
                                    "0": "Denver/CO",
                                    "1": "Positive",
                                    "2": "329"
                                },
                                {
                                    "0": "Denver/CO",
                                    "1": "Very Negative",
                                    "2": "492"
                                },
                                {
                                    "0": "Denver/CO",
                                    "1": "Very Positive",
                                    "2": "243"
                                },
                                {
                                    "0": "Los Angeles/CA",
                                    "1": "Negative",
                                    "2": "4601"
                                },
                                {
                                    "0": "Los Angeles/CA",
                                    "1": "Neutral",
                                    "2": "3582"
                                },
                                {
                                    "0": "Los Angeles/CA",
                                    "1": "Positive",
                                    "2": "1676"
                                },
                                {
                                    "0": "Los Angeles/CA",
                                    "1": "Very Negative",
                                    "2": "2537"
                                },
                                {
                                    "0": "Los Angeles/CA",
                                    "1": "Very Positive",
                                    "2": "1338"
                                }
                            ]
                        },
                        "text/html": "<table><tr><th>call_center</th><th>sentiment</th><th>sentiment_count</th></tr><tr><td>Baltimore/MD</td><td>Negative</td><td>3711</td></tr><tr><td>Baltimore/MD</td><td>Neutral</td><td>2927</td></tr><tr><td>Baltimore/MD</td><td>Positive</td><td>1289</td></tr><tr><td>Baltimore/MD</td><td>Very Negative</td><td>2025</td></tr><tr><td>Baltimore/MD</td><td>Very Positive</td><td>1060</td></tr><tr><td>Chicago/IL</td><td>Negative</td><td>1839</td></tr><tr><td>Chicago/IL</td><td>Neutral</td><td>1445</td></tr><tr><td>Chicago/IL</td><td>Positive</td><td>634</td></tr><tr><td>Chicago/IL</td><td>Very Negative</td><td>972</td></tr><tr><td>Chicago/IL</td><td>Very Positive</td><td>529</td></tr><tr><td>Denver/CO</td><td>Negative</td><td>912</td></tr><tr><td>Denver/CO</td><td>Neutral</td><td>800</td></tr><tr><td>Denver/CO</td><td>Positive</td><td>329</td></tr><tr><td>Denver/CO</td><td>Very Negative</td><td>492</td></tr><tr><td>Denver/CO</td><td>Very Positive</td><td>243</td></tr><tr><td>Los Angeles/CA</td><td>Negative</td><td>4601</td></tr><tr><td>Los Angeles/CA</td><td>Neutral</td><td>3582</td></tr><tr><td>Los Angeles/CA</td><td>Positive</td><td>1676</td></tr><tr><td>Los Angeles/CA</td><td>Very Negative</td><td>2537</td></tr><tr><td>Los Angeles/CA</td><td>Very Positive</td><td>1338</td></tr></table>"
                    },
                    "metadata": {}
                }
            ],
            "execution_count": 30
        },
        {
            "cell_type": "code",
            "source": [
                "SELECT channel, sentiment, COUNT(sentiment) sentiment_count\r\n",
                "FROM [Call Center]\r\n",
                "GROUP BY channel, sentiment\r\n",
                "ORDER BY channel, sentiment;"
            ],
            "metadata": {
                "language": "sql",
                "azdata_cell_guid": "4d313382-6db8-43ad-8592-c2d3209a09fb"
            },
            "outputs": [
                {
                    "output_type": "display_data",
                    "data": {
                        "text/html": "(20 rows affected)"
                    },
                    "metadata": {}
                },
                {
                    "output_type": "display_data",
                    "data": {
                        "text/html": "Total execution time: 00:00:00.050"
                    },
                    "metadata": {}
                },
                {
                    "output_type": "execute_result",
                    "execution_count": 33,
                    "data": {
                        "application/vnd.dataresource+json": {
                            "schema": {
                                "fields": [
                                    {
                                        "name": "channel"
                                    },
                                    {
                                        "name": "sentiment"
                                    },
                                    {
                                        "name": "sentiment_count"
                                    }
                                ]
                            },
                            "data": [
                                {
                                    "0": "Call-Center",
                                    "1": "Negative",
                                    "2": "3570"
                                },
                                {
                                    "0": "Call-Center",
                                    "1": "Neutral",
                                    "2": "2785"
                                },
                                {
                                    "0": "Call-Center",
                                    "1": "Positive",
                                    "2": "1245"
                                },
                                {
                                    "0": "Call-Center",
                                    "1": "Very Negative",
                                    "2": "1983"
                                },
                                {
                                    "0": "Call-Center",
                                    "1": "Very Positive",
                                    "2": "1056"
                                },
                                {
                                    "0": "Chatbot",
                                    "1": "Negative",
                                    "2": "2737"
                                },
                                {
                                    "0": "Chatbot",
                                    "1": "Neutral",
                                    "2": "2201"
                                },
                                {
                                    "0": "Chatbot",
                                    "1": "Positive",
                                    "2": "983"
                                },
                                {
                                    "0": "Chatbot",
                                    "1": "Very Negative",
                                    "2": "1526"
                                },
                                {
                                    "0": "Chatbot",
                                    "1": "Very Positive",
                                    "2": "809"
                                },
                                {
                                    "0": "Email",
                                    "1": "Negative",
                                    "2": "2565"
                                },
                                {
                                    "0": "Email",
                                    "1": "Neutral",
                                    "2": "1995"
                                },
                                {
                                    "0": "Email",
                                    "1": "Positive",
                                    "2": "863"
                                },
                                {
                                    "0": "Email",
                                    "1": "Very Negative",
                                    "2": "1344"
                                },
                                {
                                    "0": "Email",
                                    "1": "Very Positive",
                                    "2": "703"
                                },
                                {
                                    "0": "Web",
                                    "1": "Negative",
                                    "2": "2191"
                                },
                                {
                                    "0": "Web",
                                    "1": "Neutral",
                                    "2": "1773"
                                },
                                {
                                    "0": "Web",
                                    "1": "Positive",
                                    "2": "837"
                                },
                                {
                                    "0": "Web",
                                    "1": "Very Negative",
                                    "2": "1173"
                                },
                                {
                                    "0": "Web",
                                    "1": "Very Positive",
                                    "2": "602"
                                }
                            ]
                        },
                        "text/html": "<table><tr><th>channel</th><th>sentiment</th><th>sentiment_count</th></tr><tr><td>Call-Center</td><td>Negative</td><td>3570</td></tr><tr><td>Call-Center</td><td>Neutral</td><td>2785</td></tr><tr><td>Call-Center</td><td>Positive</td><td>1245</td></tr><tr><td>Call-Center</td><td>Very Negative</td><td>1983</td></tr><tr><td>Call-Center</td><td>Very Positive</td><td>1056</td></tr><tr><td>Chatbot</td><td>Negative</td><td>2737</td></tr><tr><td>Chatbot</td><td>Neutral</td><td>2201</td></tr><tr><td>Chatbot</td><td>Positive</td><td>983</td></tr><tr><td>Chatbot</td><td>Very Negative</td><td>1526</td></tr><tr><td>Chatbot</td><td>Very Positive</td><td>809</td></tr><tr><td>Email</td><td>Negative</td><td>2565</td></tr><tr><td>Email</td><td>Neutral</td><td>1995</td></tr><tr><td>Email</td><td>Positive</td><td>863</td></tr><tr><td>Email</td><td>Very Negative</td><td>1344</td></tr><tr><td>Email</td><td>Very Positive</td><td>703</td></tr><tr><td>Web</td><td>Negative</td><td>2191</td></tr><tr><td>Web</td><td>Neutral</td><td>1773</td></tr><tr><td>Web</td><td>Positive</td><td>837</td></tr><tr><td>Web</td><td>Very Negative</td><td>1173</td></tr><tr><td>Web</td><td>Very Positive</td><td>602</td></tr></table>"
                    },
                    "metadata": {}
                }
            ],
            "execution_count": 33
        },
        {
            "cell_type": "code",
            "source": [
                "SELECT channel, response_time, COUNT(response_time) response_time_count\r\n",
                "FROM [Call Center]\r\n",
                "GROUP BY channel, response_time\r\n",
                "ORDER BY channel, response_time;"
            ],
            "metadata": {
                "azdata_cell_guid": "e420cf85-3ff8-430d-b3cf-86e48b6d2c8b",
                "language": "sql"
            },
            "outputs": [
                {
                    "output_type": "display_data",
                    "data": {
                        "text/html": "(12 rows affected)"
                    },
                    "metadata": {}
                },
                {
                    "output_type": "display_data",
                    "data": {
                        "text/html": "Total execution time: 00:00:00.062"
                    },
                    "metadata": {}
                },
                {
                    "output_type": "execute_result",
                    "execution_count": 36,
                    "data": {
                        "application/vnd.dataresource+json": {
                            "schema": {
                                "fields": [
                                    {
                                        "name": "channel"
                                    },
                                    {
                                        "name": "response_time"
                                    },
                                    {
                                        "name": "response_time_count"
                                    }
                                ]
                            },
                            "data": [
                                {
                                    "0": "Call-Center",
                                    "1": "Above SLA",
                                    "2": "1310"
                                },
                                {
                                    "0": "Call-Center",
                                    "1": "Below SLA",
                                    "2": "2675"
                                },
                                {
                                    "0": "Call-Center",
                                    "1": "Within SLA",
                                    "2": "6654"
                                },
                                {
                                    "0": "Chatbot",
                                    "1": "Above SLA",
                                    "2": "1049"
                                },
                                {
                                    "0": "Chatbot",
                                    "1": "Below SLA",
                                    "2": "2013"
                                },
                                {
                                    "0": "Chatbot",
                                    "1": "Within SLA",
                                    "2": "5194"
                                },
                                {
                                    "0": "Email",
                                    "1": "Above SLA",
                                    "2": "935"
                                },
                                {
                                    "0": "Email",
                                    "1": "Below SLA",
                                    "2": "1822"
                                },
                                {
                                    "0": "Email",
                                    "1": "Within SLA",
                                    "2": "4713"
                                },
                                {
                                    "0": "Web",
                                    "1": "Above SLA",
                                    "2": "874"
                                },
                                {
                                    "0": "Web",
                                    "1": "Below SLA",
                                    "2": "1638"
                                },
                                {
                                    "0": "Web",
                                    "1": "Within SLA",
                                    "2": "4064"
                                }
                            ]
                        },
                        "text/html": "<table><tr><th>channel</th><th>response_time</th><th>response_time_count</th></tr><tr><td>Call-Center</td><td>Above SLA</td><td>1310</td></tr><tr><td>Call-Center</td><td>Below SLA</td><td>2675</td></tr><tr><td>Call-Center</td><td>Within SLA</td><td>6654</td></tr><tr><td>Chatbot</td><td>Above SLA</td><td>1049</td></tr><tr><td>Chatbot</td><td>Below SLA</td><td>2013</td></tr><tr><td>Chatbot</td><td>Within SLA</td><td>5194</td></tr><tr><td>Email</td><td>Above SLA</td><td>935</td></tr><tr><td>Email</td><td>Below SLA</td><td>1822</td></tr><tr><td>Email</td><td>Within SLA</td><td>4713</td></tr><tr><td>Web</td><td>Above SLA</td><td>874</td></tr><tr><td>Web</td><td>Below SLA</td><td>1638</td></tr><tr><td>Web</td><td>Within SLA</td><td>4064</td></tr></table>"
                    },
                    "metadata": {}
                }
            ],
            "execution_count": 36
        },
        {
            "cell_type": "code",
            "source": [
                "SELECT reason, COUNT(reason) AS reason_count\r\n",
                "FROM [Call Center]\r\n",
                "GROUP BY reason"
            ],
            "metadata": {
                "azdata_cell_guid": "1d9b69f1-101f-4d00-80be-472a8b3d18cd",
                "language": "sql"
            },
            "outputs": [
                {
                    "output_type": "display_data",
                    "data": {
                        "text/html": "(3 rows affected)"
                    },
                    "metadata": {}
                },
                {
                    "output_type": "display_data",
                    "data": {
                        "text/html": "Total execution time: 00:00:00.044"
                    },
                    "metadata": {}
                },
                {
                    "output_type": "execute_result",
                    "execution_count": 37,
                    "data": {
                        "application/vnd.dataresource+json": {
                            "schema": {
                                "fields": [
                                    {
                                        "name": "reason"
                                    },
                                    {
                                        "name": "reason_count"
                                    }
                                ]
                            },
                            "data": [
                                {
                                    "0": "Service Outage",
                                    "1": "4730"
                                },
                                {
                                    "0": "Billing Question",
                                    "1": "23462"
                                },
                                {
                                    "0": "Payments",
                                    "1": "4749"
                                }
                            ]
                        },
                        "text/html": "<table><tr><th>reason</th><th>reason_count</th></tr><tr><td>Service Outage</td><td>4730</td></tr><tr><td>Billing Question</td><td>23462</td></tr><tr><td>Payments</td><td>4749</td></tr></table>"
                    },
                    "metadata": {}
                }
            ],
            "execution_count": 37
        },
        {
            "cell_type": "code",
            "source": [
                "SELECT sentiment, AVG(call_duration_in_minutes) avg_call_time\r\n",
                "FROM [Call Center]\r\n",
                "GROUP BY sentiment\r\n",
                "ORDER BY sentiment;"
            ],
            "metadata": {
                "azdata_cell_guid": "5d95eacc-9775-4116-a96d-bda0302c6d9d",
                "language": "sql"
            },
            "outputs": [
                {
                    "output_type": "display_data",
                    "data": {
                        "text/html": "(5 rows affected)"
                    },
                    "metadata": {}
                },
                {
                    "output_type": "display_data",
                    "data": {
                        "text/html": "Total execution time: 00:00:00.038"
                    },
                    "metadata": {}
                },
                {
                    "output_type": "execute_result",
                    "execution_count": 38,
                    "data": {
                        "application/vnd.dataresource+json": {
                            "schema": {
                                "fields": [
                                    {
                                        "name": "sentiment"
                                    },
                                    {
                                        "name": "avg_call_time"
                                    }
                                ]
                            },
                            "data": [
                                {
                                    "0": "Negative",
                                    "1": "25"
                                },
                                {
                                    "0": "Neutral",
                                    "1": "24"
                                },
                                {
                                    "0": "Positive",
                                    "1": "24"
                                },
                                {
                                    "0": "Very Negative",
                                    "1": "24"
                                },
                                {
                                    "0": "Very Positive",
                                    "1": "24"
                                }
                            ]
                        },
                        "text/html": "<table><tr><th>sentiment</th><th>avg_call_time</th></tr><tr><td>Negative</td><td>25</td></tr><tr><td>Neutral</td><td>24</td></tr><tr><td>Positive</td><td>24</td></tr><tr><td>Very Negative</td><td>24</td></tr><tr><td>Very Positive</td><td>24</td></tr></table>"
                    },
                    "metadata": {}
                }
            ],
            "execution_count": 38
        },
        {
            "cell_type": "markdown",
            "source": [
                "This shows that sentiments given by the customer is not impacted by the call ti,e"
            ],
            "metadata": {
                "language": "sql",
                "azdata_cell_guid": "af288d21-a92d-45c4-993b-918b7f08417d"
            },
            "attachments": {}
        },
        {
            "cell_type": "code",
            "source": [
                "SELECT call_center, response_time, COUNT(response_time) response_time_count\r\n",
                "FROM [Call Center]\r\n",
                "GROUP BY call_center, response_time\r\n",
                "ORDER BY call_center, response_time;"
            ],
            "metadata": {
                "azdata_cell_guid": "a46681da-21f7-49ec-bda5-2af95522af76",
                "language": "sql"
            },
            "outputs": [
                {
                    "output_type": "display_data",
                    "data": {
                        "text/html": "(12 rows affected)"
                    },
                    "metadata": {}
                },
                {
                    "output_type": "display_data",
                    "data": {
                        "text/html": "Total execution time: 00:00:00.044"
                    },
                    "metadata": {}
                },
                {
                    "output_type": "execute_result",
                    "execution_count": 39,
                    "data": {
                        "application/vnd.dataresource+json": {
                            "schema": {
                                "fields": [
                                    {
                                        "name": "call_center"
                                    },
                                    {
                                        "name": "response_time"
                                    },
                                    {
                                        "name": "response_time_count"
                                    }
                                ]
                            },
                            "data": [
                                {
                                    "0": "Baltimore/MD",
                                    "1": "Above SLA",
                                    "2": "1389"
                                },
                                {
                                    "0": "Baltimore/MD",
                                    "1": "Below SLA",
                                    "2": "2768"
                                },
                                {
                                    "0": "Baltimore/MD",
                                    "1": "Within SLA",
                                    "2": "6855"
                                },
                                {
                                    "0": "Chicago/IL",
                                    "1": "Above SLA",
                                    "2": "697"
                                },
                                {
                                    "0": "Chicago/IL",
                                    "1": "Below SLA",
                                    "2": "1361"
                                },
                                {
                                    "0": "Chicago/IL",
                                    "1": "Within SLA",
                                    "2": "3361"
                                },
                                {
                                    "0": "Denver/CO",
                                    "1": "Above SLA",
                                    "2": "343"
                                },
                                {
                                    "0": "Denver/CO",
                                    "1": "Below SLA",
                                    "2": "692"
                                },
                                {
                                    "0": "Denver/CO",
                                    "1": "Within SLA",
                                    "2": "1741"
                                },
                                {
                                    "0": "Los Angeles/CA",
                                    "1": "Above SLA",
                                    "2": "1739"
                                },
                                {
                                    "0": "Los Angeles/CA",
                                    "1": "Below SLA",
                                    "2": "3327"
                                },
                                {
                                    "0": "Los Angeles/CA",
                                    "1": "Within SLA",
                                    "2": "8668"
                                }
                            ]
                        },
                        "text/html": "<table><tr><th>call_center</th><th>response_time</th><th>response_time_count</th></tr><tr><td>Baltimore/MD</td><td>Above SLA</td><td>1389</td></tr><tr><td>Baltimore/MD</td><td>Below SLA</td><td>2768</td></tr><tr><td>Baltimore/MD</td><td>Within SLA</td><td>6855</td></tr><tr><td>Chicago/IL</td><td>Above SLA</td><td>697</td></tr><tr><td>Chicago/IL</td><td>Below SLA</td><td>1361</td></tr><tr><td>Chicago/IL</td><td>Within SLA</td><td>3361</td></tr><tr><td>Denver/CO</td><td>Above SLA</td><td>343</td></tr><tr><td>Denver/CO</td><td>Below SLA</td><td>692</td></tr><tr><td>Denver/CO</td><td>Within SLA</td><td>1741</td></tr><tr><td>Los Angeles/CA</td><td>Above SLA</td><td>1739</td></tr><tr><td>Los Angeles/CA</td><td>Below SLA</td><td>3327</td></tr><tr><td>Los Angeles/CA</td><td>Within SLA</td><td>8668</td></tr></table>"
                    },
                    "metadata": {}
                }
            ],
            "execution_count": 39
        },
        {
            "cell_type": "code",
            "source": [
                "SELECT call_center, AVG(csat_score) AS [Average Rating]\r\n",
                "FROM [Call Center]\r\n",
                "GROUP BY call_center"
            ],
            "metadata": {
                "azdata_cell_guid": "b2335495-3c9d-426f-9662-4b6d39894575",
                "language": "sql"
            },
            "outputs": [
                {
                    "output_type": "display_data",
                    "data": {
                        "text/html": "(4 rows affected)"
                    },
                    "metadata": {}
                },
                {
                    "output_type": "display_data",
                    "data": {
                        "text/html": "Total execution time: 00:00:00.039"
                    },
                    "metadata": {}
                },
                {
                    "output_type": "execute_result",
                    "execution_count": 44,
                    "data": {
                        "application/vnd.dataresource+json": {
                            "schema": {
                                "fields": [
                                    {
                                        "name": "call_center"
                                    },
                                    {
                                        "name": "Average Rating"
                                    }
                                ]
                            },
                            "data": [
                                {
                                    "0": "Baltimore/MD",
                                    "1": "5"
                                },
                                {
                                    "0": "Chicago/IL",
                                    "1": "5"
                                },
                                {
                                    "0": "Denver/CO",
                                    "1": "5"
                                },
                                {
                                    "0": "Los Angeles/CA",
                                    "1": "5"
                                }
                            ]
                        },
                        "text/html": "<table><tr><th>call_center</th><th>Average Rating</th></tr><tr><td>Baltimore/MD</td><td>5</td></tr><tr><td>Chicago/IL</td><td>5</td></tr><tr><td>Denver/CO</td><td>5</td></tr><tr><td>Los Angeles/CA</td><td>5</td></tr></table>"
                    },
                    "metadata": {}
                }
            ],
            "execution_count": 45
        },
        {
            "cell_type": "code",
            "source": [
                "SELECT channel, AVG(csat_score) AS [Average Rating]\r\n",
                "FROM [Call Center]\r\n",
                "GROUP BY channel"
            ],
            "metadata": {
                "azdata_cell_guid": "224187e7-5218-4ac8-8339-d78ab47bc2f9",
                "language": "sql"
            },
            "outputs": [
                {
                    "output_type": "display_data",
                    "data": {
                        "text/html": "(4 rows affected)"
                    },
                    "metadata": {}
                },
                {
                    "output_type": "display_data",
                    "data": {
                        "text/html": "Total execution time: 00:00:00.176"
                    },
                    "metadata": {}
                },
                {
                    "output_type": "execute_result",
                    "metadata": {},
                    "execution_count": 1,
                    "data": {
                        "application/vnd.dataresource+json": {
                            "schema": {
                                "fields": [
                                    {
                                        "name": "channel"
                                    },
                                    {
                                        "name": "Average Rating"
                                    }
                                ]
                            },
                            "data": [
                                {
                                    "0": "Call-Center",
                                    "1": "5"
                                },
                                {
                                    "0": "Web",
                                    "1": "5"
                                },
                                {
                                    "0": "Email",
                                    "1": "5"
                                },
                                {
                                    "0": "Chatbot",
                                    "1": "5"
                                }
                            ]
                        },
                        "text/html": [
                            "<table>",
                            "<tr><th>channel</th><th>Average Rating</th></tr>",
                            "<tr><td>Call-Center</td><td>5</td></tr>",
                            "<tr><td>Web</td><td>5</td></tr>",
                            "<tr><td>Email</td><td>5</td></tr>",
                            "<tr><td>Chatbot</td><td>5</td></tr>",
                            "</table>"
                        ]
                    }
                }
            ],
            "execution_count": 1
        },
        {
            "cell_type": "code",
            "source": [
                "SELECT sentiment, COUNT(sentiment)\r\n",
                "FROM [Call Center]\r\n",
                "GROUP BY sentiment"
            ],
            "metadata": {
                "language": "sql",
                "azdata_cell_guid": "0efc1bd1-2537-4d09-91b0-a955147ca43e"
            },
            "outputs": [
                {
                    "output_type": "display_data",
                    "data": {
                        "text/html": "(5 rows affected)"
                    },
                    "metadata": {}
                },
                {
                    "output_type": "display_data",
                    "data": {
                        "text/html": "Total execution time: 00:00:00.149"
                    },
                    "metadata": {}
                },
                {
                    "output_type": "execute_result",
                    "metadata": {},
                    "execution_count": 3,
                    "data": {
                        "application/vnd.dataresource+json": {
                            "schema": {
                                "fields": [
                                    {
                                        "name": "sentiment"
                                    },
                                    {
                                        "name": "(No column name)"
                                    }
                                ]
                            },
                            "data": [
                                {
                                    "0": "Very Negative",
                                    "1": "6026"
                                },
                                {
                                    "0": "Negative",
                                    "1": "11063"
                                },
                                {
                                    "0": "Neutral",
                                    "1": "8754"
                                },
                                {
                                    "0": "Very Positive",
                                    "1": "3170"
                                },
                                {
                                    "0": "Positive",
                                    "1": "3928"
                                }
                            ]
                        },
                        "text/html": [
                            "<table>",
                            "<tr><th>sentiment</th><th>(No column name)</th></tr>",
                            "<tr><td>Very Negative</td><td>6026</td></tr>",
                            "<tr><td>Negative</td><td>11063</td></tr>",
                            "<tr><td>Neutral</td><td>8754</td></tr>",
                            "<tr><td>Very Positive</td><td>3170</td></tr>",
                            "<tr><td>Positive</td><td>3928</td></tr>",
                            "</table>"
                        ]
                    }
                }
            ],
            "execution_count": 3
        }
    ]
}